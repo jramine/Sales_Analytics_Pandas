{
 "cells": [
  {
   "cell_type": "code",
   "execution_count": null,
   "metadata": {},
   "outputs": [],
   "source": [
    "print(123)"
   ]
  }
 ],
 "metadata": {
  "kernelspec": {
   "display_name": "Python 3.10.7 64-bit",
   "language": "python",
   "name": "python3"
  },
  "language_info": {
   "name": "python",
   "version": "3.10.7"
  },
  "vscode": {
   "interpreter": {
    "hash": "2588dfb1cb72af1b90f945eab191222a274dff6dddcab2c496c38be5642732ae"
   }
  }
 },
 "nbformat": 4,
 "nbformat_minor": 5
}
