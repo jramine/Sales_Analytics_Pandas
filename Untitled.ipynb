{
 "cells": [
  {
   "cell_type": "code",
   "execution_count": 2,
   "id": "5e432c76",
   "metadata": {},
   "outputs": [
    {
     "name": "stdout",
     "output_type": "stream",
     "text": [
      "       Unnamed: 0  Quantity Ordered  Price Each       Sales\n",
      "Month                                                      \n",
      "9.0      67782075           13097.0  2082895.35  2095463.39\n",
      "10.0       112115              22.0     3347.33     3353.31\n"
     ]
    }
   ],
   "source": [
    "import  pandas as pd\n",
    "import os\n",
    "import matplotlib.pyplot as plt\n",
    "\n",
    "path ='./SalesAnalysis/Sales_Data'\n",
    "new_path = '/Final_Sales.csv'\n",
    "#concatenating files into Final_Sales.csv\n",
    "def concactenating_files(path,new_path):\n",
    "    files = [file for file in os.listdir(path)]\n",
    "    all_months_data = pd.DataFrame()\n",
    "    for file in files:\n",
    "     df = pd.read_csv(path+'/' +file)\n",
    "    all_months_data = pd.concat([all_months_data,df])\n",
    "\n",
    "    all_months_data.to_csv(path +new_path)\n",
    "\n",
    "\n",
    "all_data = pd.read_csv(\"./SalesAnalysis/Sales_Data/Final_Sales.csv\")\n",
    "\n",
    "\n",
    "#Cleaning Up The Data\n",
    "    #Drop Rows Of NAN\n",
    "nan_df = all_data[all_data.isna().any(axis=1)]\n",
    "all_data = all_data.dropna(how='all')\n",
    "\n",
    "    #Find 'Or' And Delete It\n",
    "all_data = all_data[all_data['Order Date'].str[0:2] !='Or']\n",
    "\n",
    "    #Convert Columns To The Correct Type\n",
    "all_data['Quantity Ordered'] = pd.to_numeric(all_data['Quantity Ordered']) #make int\n",
    "all_data['Price Each'] = pd.to_numeric(all_data['Price Each']) #Make float\n",
    "\n",
    "\n",
    "\n",
    "\n",
    "#Augment data with additional columns\n",
    "    #Add Month column\n",
    "\n",
    "all_data['Month'] = all_data['Order Date'].str[0:2]\n",
    "all_data['Month'] = pd.to_numeric(all_data['Month'])\n",
    "\n",
    "    #Add a sales Columns\n",
    "all_data['Sales']=all_data['Quantity Ordered'] * all_data['Price Each']\n",
    "\n",
    "\n",
    "\n",
    "#what was the ebst month for sales ?how much was earned that month\n",
    "print(all_data.groupby('Month').sum())\n",
    "\n",
    "\n",
    "\n"
   ]
  },
  {
   "cell_type": "code",
   "execution_count": null,
   "id": "6afede77",
   "metadata": {},
   "outputs": [],
   "source": []
  }
 ],
 "metadata": {
  "kernelspec": {
   "display_name": "Python 3 (ipykernel)",
   "language": "python",
   "name": "python3"
  },
  "language_info": {
   "codemirror_mode": {
    "name": "ipython",
    "version": 3
   },
   "file_extension": ".py",
   "mimetype": "text/x-python",
   "name": "python",
   "nbconvert_exporter": "python",
   "pygments_lexer": "ipython3",
   "version": "3.10.7"
  }
 },
 "nbformat": 4,
 "nbformat_minor": 5
}
